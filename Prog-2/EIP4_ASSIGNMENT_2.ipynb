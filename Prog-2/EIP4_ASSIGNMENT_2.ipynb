{
  "nbformat": 4,
  "nbformat_minor": 0,
  "metadata": {
    "colab": {
      "name": "Copy of EIP4-ASSIGNMENT-2.ipynb",
      "provenance": [],
      "collapsed_sections": [],
      "include_colab_link": true
    },
    "kernelspec": {
      "name": "python3",
      "display_name": "Python 3"
    },
    "accelerator": "GPU"
  },
  "cells": [
    {
      "cell_type": "markdown",
      "metadata": {
        "id": "view-in-github",
        "colab_type": "text"
      },
      "source": [
        "<a href=\"https://colab.research.google.com/github/infinityrun/EIP-PHASE-1/blob/master/Prog-2/EIP4_ASSIGNMENT_2.ipynb\" target=\"_parent\"><img src=\"https://colab.research.google.com/assets/colab-badge.svg\" alt=\"Open In Colab\"/></a>"
      ]
    },
    {
      "cell_type": "code",
      "metadata": {
        "id": "0SJyVpgSxHt4",
        "colab_type": "code",
        "colab": {}
      },
      "source": [
        "import numpy as np\n",
        "\n",
        "from keras.models import Sequential\n",
        "from keras.layers import Dense, Dropout, Activation, Flatten, Add, BatchNormalization\n",
        "from keras.layers import Convolution2D, MaxPooling2D\n",
        "from keras.utils import np_utils\n",
        "\n",
        "from keras.datasets import mnist"
      ],
      "execution_count": 0,
      "outputs": []
    },
    {
      "cell_type": "code",
      "metadata": {
        "id": "YlEUplvoxKAT",
        "colab_type": "code",
        "outputId": "afef47a8-1cab-48af-9ace-c8e6bb28d51e",
        "colab": {
          "base_uri": "https://localhost:8080/",
          "height": 51
        }
      },
      "source": [
        "(X_train, y_train), (X_test, y_test) = mnist.load_data()"
      ],
      "execution_count": 0,
      "outputs": [
        {
          "output_type": "stream",
          "text": [
            "Downloading data from https://s3.amazonaws.com/img-datasets/mnist.npz\n",
            "11493376/11490434 [==============================] - 2s 0us/step\n"
          ],
          "name": "stdout"
        }
      ]
    },
    {
      "cell_type": "code",
      "metadata": {
        "id": "I6Y9Va-xxMXG",
        "colab_type": "code",
        "outputId": "a699f602-f139-4f1f-f1b0-3a7decc5df42",
        "colab": {
          "base_uri": "https://localhost:8080/",
          "height": 299
        }
      },
      "source": [
        "print (X_train.shape)\n",
        "from matplotlib import pyplot as plt\n",
        "%matplotlib inline\n",
        "plt.imshow(X_train[5])"
      ],
      "execution_count": 0,
      "outputs": [
        {
          "output_type": "stream",
          "text": [
            "(60000, 28, 28)\n"
          ],
          "name": "stdout"
        },
        {
          "output_type": "execute_result",
          "data": {
            "text/plain": [
              "<matplotlib.image.AxesImage at 0x7fa4d628e320>"
            ]
          },
          "metadata": {
            "tags": []
          },
          "execution_count": 4
        },
        {
          "output_type": "display_data",
          "data": {
            "image/png": "[encoded data removed]",
            "text/plain": [
              "<Figure size 432x288 with 1 Axes>"
            ]
          },
          "metadata": {
            "tags": []
          }
        }
      ]
    },
    {
      "cell_type": "code",
      "metadata": {
        "id": "lxDZxPhhxOgO",
        "colab_type": "code",
        "colab": {}
      },
      "source": [
        "X_train = X_train.reshape(X_train.shape[0], 28, 28,1)\n",
        "X_test = X_test.reshape(X_test.shape[0], 28, 28,1)"
      ],
      "execution_count": 0,
      "outputs": []
    },
    {
      "cell_type": "code",
      "metadata": {
        "id": "3HzMqbTnxQQW",
        "colab_type": "code",
        "colab": {}
      },
      "source": [
        "X_train = X_train.astype('float32')\n",
        "X_test = X_test.astype('float32')\n",
        "X_train /= 255\n",
        "X_test /= 255"
      ],
      "execution_count": 0,
      "outputs": []
    },
    {
      "cell_type": "code",
      "metadata": {
        "id": "7LdYiW6ixR9e",
        "colab_type": "code",
        "colab": {}
      },
      "source": [
        "y_train[:10]\n",
        "Y_train = np_utils.to_categorical(y_train, 10)\n",
        "Y_test = np_utils.to_categorical(y_test, 10)"
      ],
      "execution_count": 0,
      "outputs": []
    },
    {
      "cell_type": "code",
      "metadata": {
        "id": "rFR0F9j0xVp2",
        "colab_type": "code",
        "outputId": "dc2bc58b-373f-4348-96f9-93e73cffb987",
        "colab": {
          "base_uri": "https://localhost:8080/",
          "height": 187
        }
      },
      "source": [
        "Y_train[:10]"
      ],
      "execution_count": 0,
      "outputs": [
        {
          "output_type": "execute_result",
          "data": {
            "text/plain": [
              "array([[0., 0., 0., 0., 0., 1., 0., 0., 0., 0.],\n",
              "       [1., 0., 0., 0., 0., 0., 0., 0., 0., 0.],\n",
              "       [0., 0., 0., 0., 1., 0., 0., 0., 0., 0.],\n",
              "       [0., 1., 0., 0., 0., 0., 0., 0., 0., 0.],\n",
              "       [0., 0., 0., 0., 0., 0., 0., 0., 0., 1.],\n",
              "       [0., 0., 1., 0., 0., 0., 0., 0., 0., 0.],\n",
              "       [0., 1., 0., 0., 0., 0., 0., 0., 0., 0.],\n",
              "       [0., 0., 0., 1., 0., 0., 0., 0., 0., 0.],\n",
              "       [0., 1., 0., 0., 0., 0., 0., 0., 0., 0.],\n",
              "       [0., 0., 0., 0., 1., 0., 0., 0., 0., 0.]], dtype=float32)"
            ]
          },
          "metadata": {
            "tags": []
          },
          "execution_count": 8
        }
      ]
    },
    {
      "cell_type": "code",
      "metadata": {
        "id": "mDpXf4YQxXRm",
        "colab_type": "code",
        "outputId": "74faf333-634f-48d9-821f-6f4fb0de6f28",
        "colab": {
          "base_uri": "https://localhost:8080/",
          "height": 972
        }
      },
      "source": [
        "from keras.layers import Activation\n",
        "model = Sequential()\n",
        " \n",
        "model.add(Convolution2D(16, 3, 3, activation='relu', input_shape=(28,28,1) , use_bias=\"false\")) #26\n",
        "model.add(BatchNormalization())\n",
        "#model.add(Dropout(0.10))\n",
        "\n",
        "model.add(Convolution2D(16, 3, 3, activation='relu', use_bias=\"false\")) #24\n",
        "model.add(BatchNormalization())\n",
        "\n",
        "model.add(MaxPooling2D(pool_size=(2, 2))) #12\n",
        "model.add(BatchNormalization())\n",
        "\n",
        "model.add(Dropout(0.05))\n",
        "\n",
        "model.add(Convolution2D(16, 3, 3, activation='relu', use_bias=\"false\")) #10\n",
        "model.add(BatchNormalization())\n",
        "#model.add(Dropout(0.20))\n",
        "\n",
        "model.add(Convolution2D(16, 3, 3, activation='relu', use_bias=\"false\")) #8\n",
        "model.add(BatchNormalization())\n",
        "\n",
        "#model.add(Dropout(0.20))\n",
        "\n",
        "model.add(MaxPooling2D(pool_size=(2, 2))) #4\n",
        "model.add(BatchNormalization())\n",
        "\n",
        "model.add(Dropout(0.20))\n",
        "\n",
        "model.add(Convolution2D(16, 3, 3, activation='relu', use_bias=\"false\")) #2\n",
        "model.add(BatchNormalization())\n",
        "#model.add(Dropout(0.25))\n",
        "\n",
        "model.add(Convolution2D(10, 2, 2)) #1\n",
        "\n",
        "model.add(Flatten())\n",
        "model.add(Activation('softmax'))\n",
        "\n",
        "\n",
        "model.summary()"
      ],
      "execution_count": 0,
      "outputs": [
        {
          "output_type": "stream",
          "text": [
            "/usr/local/lib/python3.6/dist-packages/ipykernel_launcher.py:4: UserWarning: Update your `Conv2D` call to the Keras 2 API: `Conv2D(16, (3, 3), activation=\"relu\", input_shape=(28, 28, 1..., use_bias=\"false\")`\n",
            "  after removing the cwd from sys.path.\n",
            "/usr/local/lib/python3.6/dist-packages/ipykernel_launcher.py:8: UserWarning: Update your `Conv2D` call to the Keras 2 API: `Conv2D(16, (3, 3), activation=\"relu\", use_bias=\"false\")`\n",
            "  \n",
            "/usr/local/lib/python3.6/dist-packages/ipykernel_launcher.py:16: UserWarning: Update your `Conv2D` call to the Keras 2 API: `Conv2D(16, (3, 3), activation=\"relu\", use_bias=\"false\")`\n",
            "  app.launch_new_instance()\n",
            "/usr/local/lib/python3.6/dist-packages/ipykernel_launcher.py:20: UserWarning: Update your `Conv2D` call to the Keras 2 API: `Conv2D(16, (3, 3), activation=\"relu\", use_bias=\"false\")`\n"
          ],
          "name": "stderr"
        },
        {
          "output_type": "stream",
          "text": [
            "Model: \"sequential_2\"\n",
            "_________________________________________________________________\n",
            "Layer (type)                 Output Shape              Param #   \n",
            "=================================================================\n",
            "conv2d_7 (Conv2D)            (None, 26, 26, 16)        160       \n",
            "_________________________________________________________________\n",
            "batch_normalization_8 (Batch (None, 26, 26, 16)        64        \n",
            "_________________________________________________________________\n",
            "conv2d_8 (Conv2D)            (None, 24, 24, 16)        2320      \n",
            "_________________________________________________________________\n",
            "batch_normalization_9 (Batch (None, 24, 24, 16)        64        \n",
            "_________________________________________________________________\n",
            "max_pooling2d_3 (MaxPooling2 (None, 12, 12, 16)        0         \n",
            "_________________________________________________________________\n",
            "batch_normalization_10 (Batc (None, 12, 12, 16)        64        \n",
            "_________________________________________________________________\n",
            "dropout_3 (Dropout)          (None, 12, 12, 16)        0         \n",
            "_________________________________________________________________\n",
            "conv2d_9 (Conv2D)            (None, 10, 10, 16)        2320      \n",
            "_________________________________________________________________\n",
            "batch_normalization_11 (Batc (None, 10, 10, 16)        64        \n",
            "_________________________________________________________________\n",
            "conv2d_10 (Conv2D)           (None, 8, 8, 16)          2320      \n",
            "_________________________________________________________________\n",
            "batch_normalization_12 (Batc (None, 8, 8, 16)          64        \n",
            "_________________________________________________________________\n",
            "max_pooling2d_4 (MaxPooling2 (None, 4, 4, 16)          0         \n",
            "_________________________________________________________________\n",
            "batch_normalization_13 (Batc (None, 4, 4, 16)          64        \n",
            "_________________________________________________________________\n",
            "dropout_4 (Dropout)          (None, 4, 4, 16)          0         \n",
            "_________________________________________________________________\n",
            "conv2d_11 (Conv2D)           (None, 2, 2, 16)          2320      \n",
            "_________________________________________________________________\n",
            "batch_normalization_14 (Batc (None, 2, 2, 16)          64        \n",
            "_________________________________________________________________\n",
            "conv2d_12 (Conv2D)           (None, 1, 1, 10)          650       \n",
            "_________________________________________________________________\n",
            "flatten_2 (Flatten)          (None, 10)                0         \n",
            "_________________________________________________________________\n",
            "activation_2 (Activation)    (None, 10)                0         \n",
            "=================================================================\n",
            "Total params: 10,538\n",
            "Trainable params: 10,314\n",
            "Non-trainable params: 224\n",
            "_________________________________________________________________\n"
          ],
          "name": "stdout"
        },
        {
          "output_type": "stream",
          "text": [
            "/usr/local/lib/python3.6/dist-packages/ipykernel_launcher.py:30: UserWarning: Update your `Conv2D` call to the Keras 2 API: `Conv2D(16, (3, 3), activation=\"relu\", use_bias=\"false\")`\n",
            "/usr/local/lib/python3.6/dist-packages/ipykernel_launcher.py:34: UserWarning: Update your `Conv2D` call to the Keras 2 API: `Conv2D(10, (2, 2))`\n"
          ],
          "name": "stderr"
        }
      ]
    },
    {
      "cell_type": "code",
      "metadata": {
        "id": "L2IicGJ4x3Be",
        "colab_type": "code",
        "outputId": "30174f01-c9e7-4b26-d830-5021f6e38e69",
        "colab": {
          "base_uri": "https://localhost:8080/",
          "height": 1000
        }
      },
      "source": [
        "from keras.optimizers import Adam\n",
        "from keras.callbacks import LearningRateScheduler\n",
        "def scheduler(epoch, lr):\n",
        "  return round(0.0019 * 1/(1 + 0.316 * epoch), 10)\n",
        "\n",
        "model.compile(loss='categorical_crossentropy', optimizer=Adam(lr=0.0019), metrics=['accuracy'])\n",
        "\n",
        "model.fit(X_train, Y_train, batch_size=128, epochs=16, verbose=1, validation_data=(X_test, Y_test), callbacks=[LearningRateScheduler(scheduler, verbose=1)])"
      ],
      "execution_count": 0,
      "outputs": [
        {
          "output_type": "stream",
          "text": [
            "Train on 60000 samples, validate on 10000 samples\n",
            "Epoch 1/16\n",
            "\n",
            "Epoch 00001: LearningRateScheduler setting learning rate to 0.0019.\n",
            "60000/60000 [==============================] - 13s 213us/step - loss: 0.0327 - acc: 0.9896 - val_loss: 0.0313 - val_acc: 0.9903\n",
            "Epoch 2/16\n",
            "\n",
            "Epoch 00002: LearningRateScheduler setting learning rate to 0.001443769.\n",
            "60000/60000 [==============================] - 10s 173us/step - loss: 0.0250 - acc: 0.9918 - val_loss: 0.0302 - val_acc: 0.9901\n",
            "Epoch 3/16\n",
            "\n",
            "Epoch 00003: LearningRateScheduler setting learning rate to 0.0011642157.\n",
            "60000/60000 [==============================] - 10s 173us/step - loss: 0.0225 - acc: 0.9927 - val_loss: 0.0284 - val_acc: 0.9902\n",
            "Epoch 4/16\n",
            "\n",
            "Epoch 00004: LearningRateScheduler setting learning rate to 0.0009753593.\n",
            "60000/60000 [==============================] - 10s 173us/step - loss: 0.0205 - acc: 0.9933 - val_loss: 0.0210 - val_acc: 0.9935\n",
            "Epoch 5/16\n",
            "\n",
            "Epoch 00005: LearningRateScheduler setting learning rate to 0.0008392226.\n",
            "60000/60000 [==============================] - 10s 171us/step - loss: 0.0180 - acc: 0.9941 - val_loss: 0.0252 - val_acc: 0.9916\n",
            "Epoch 6/16\n",
            "\n",
            "Epoch 00006: LearningRateScheduler setting learning rate to 0.0007364341.\n",
            "60000/60000 [==============================] - 10s 170us/step - loss: 0.0165 - acc: 0.9948 - val_loss: 0.0201 - val_acc: 0.9939\n",
            "Epoch 7/16\n",
            "\n",
            "Epoch 00007: LearningRateScheduler setting learning rate to 0.0006560773.\n",
            "60000/60000 [==============================] - 10s 169us/step - loss: 0.0154 - acc: 0.9948 - val_loss: 0.0202 - val_acc: 0.9936\n",
            "Epoch 8/16\n",
            "\n",
            "Epoch 00008: LearningRateScheduler setting learning rate to 0.0005915318.\n",
            "60000/60000 [==============================] - 10s 172us/step - loss: 0.0140 - acc: 0.9953 - val_loss: 0.0239 - val_acc: 0.9934\n",
            "Epoch 9/16\n",
            "\n",
            "Epoch 00009: LearningRateScheduler setting learning rate to 0.0005385488.\n",
            "60000/60000 [==============================] - 10s 170us/step - loss: 0.0132 - acc: 0.9956 - val_loss: 0.0223 - val_acc: 0.9936\n",
            "Epoch 10/16\n",
            "\n",
            "Epoch 00010: LearningRateScheduler setting learning rate to 0.0004942768.\n",
            "60000/60000 [==============================] - 10s 170us/step - loss: 0.0126 - acc: 0.9957 - val_loss: 0.0219 - val_acc: 0.9930\n",
            "Epoch 11/16\n",
            "\n",
            "Epoch 00011: LearningRateScheduler setting learning rate to 0.0004567308.\n",
            "60000/60000 [==============================] - 10s 170us/step - loss: 0.0123 - acc: 0.9960 - val_loss: 0.0220 - val_acc: 0.9935\n",
            "Epoch 12/16\n",
            "\n",
            "Epoch 00012: LearningRateScheduler setting learning rate to 0.0004244861.\n",
            "60000/60000 [==============================] - 10s 169us/step - loss: 0.0115 - acc: 0.9962 - val_loss: 0.0205 - val_acc: 0.9935\n",
            "Epoch 13/16\n",
            "\n",
            "Epoch 00013: LearningRateScheduler setting learning rate to 0.0003964942.\n",
            "60000/60000 [==============================] - 10s 169us/step - loss: 0.0106 - acc: 0.9965 - val_loss: 0.0197 - val_acc: 0.9943\n",
            "Epoch 14/16\n",
            "\n",
            "Epoch 00014: LearningRateScheduler setting learning rate to 0.0003719655.\n",
            "60000/60000 [==============================] - 10s 168us/step - loss: 0.0097 - acc: 0.9970 - val_loss: 0.0214 - val_acc: 0.9930\n",
            "Epoch 15/16\n",
            "\n",
            "Epoch 00015: LearningRateScheduler setting learning rate to 0.000350295.\n",
            "60000/60000 [==============================] - 10s 169us/step - loss: 0.0091 - acc: 0.9970 - val_loss: 0.0215 - val_acc: 0.9935\n",
            "Epoch 16/16\n",
            "\n",
            "Epoch 00016: LearningRateScheduler setting learning rate to 0.0003310105.\n",
            "60000/60000 [==============================] - 10s 165us/step - loss: 0.0093 - acc: 0.9969 - val_loss: 0.0196 - val_acc: 0.9942\n"
          ],
          "name": "stdout"
        },
        {
          "output_type": "execute_result",
          "data": {
            "text/plain": [
              "<keras.callbacks.History at 0x7fa47c633e80>"
            ]
          },
          "metadata": {
            "tags": []
          },
          "execution_count": 17
        }
      ]
    },
    {
      "cell_type": "code",
      "metadata": {
        "id": "WLxlW9ufyQiO",
        "colab_type": "code",
        "outputId": "4507d3a6-f873-4b24-e5dc-b9db954d0f0a",
        "colab": {
          "base_uri": "https://localhost:8080/",
          "height": 34
        }
      },
      "source": [
        "\n",
        "score = model.evaluate(X_test, Y_test, verbose=0)\n",
        "print(score)"
      ],
      "execution_count": 0,
      "outputs": [
        {
          "output_type": "stream",
          "text": [
            "[0.01956415104058797, 0.9942]\n"
          ],
          "name": "stdout"
        }
      ]
    },
    {
      "cell_type": "code",
      "metadata": {
        "id": "m2qDl21ozBnW",
        "colab_type": "code",
        "colab": {}
      },
      "source": [
        "y_pred = model.predict(X_test)"
      ],
      "execution_count": 0,
      "outputs": []
    },
    {
      "cell_type": "code",
      "metadata": {
        "id": "Nbl504XXxOzb",
        "colab_type": "code",
        "outputId": "7979310f-1d01-44d7-a35f-1ccd81a887d2",
        "colab": {
          "base_uri": "https://localhost:8080/",
          "height": 340
        }
      },
      "source": [
        "print(y_pred[:9])\n",
        "print(y_test[:9])"
      ],
      "execution_count": 0,
      "outputs": [
        {
          "output_type": "stream",
          "text": [
            "[[1.2981861e-09 2.6044134e-09 2.9623985e-09 1.7849432e-07 6.6858843e-09\n",
            "  5.2506016e-10 3.3237904e-13 9.9999964e-01 2.1495224e-10 1.4030022e-07]\n",
            " [1.2202904e-08 1.3018936e-09 1.0000000e+00 3.4190688e-11 3.0420739e-11\n",
            "  9.9583265e-14 2.8353544e-09 1.6230971e-09 4.1635057e-11 9.9108222e-14]\n",
            " [5.5816085e-09 9.9999917e-01 2.0958757e-09 1.1655014e-08 1.8903934e-07\n",
            "  8.2279312e-09 4.8868628e-08 5.4669783e-07 1.6248961e-08 3.2986465e-09]\n",
            " [9.9998987e-01 2.8881816e-10 4.9809370e-09 8.5260443e-10 3.4623354e-10\n",
            "  1.3025990e-08 9.9398767e-06 4.0167376e-11 1.6972876e-07 9.0863939e-09]\n",
            " [2.1658342e-11 1.9427941e-10 5.5984283e-11 6.7245494e-11 9.9999928e-01\n",
            "  1.8884022e-13 2.5483682e-10 1.0609629e-07 2.4356399e-09 5.4128128e-07]\n",
            " [2.3247260e-09 9.9999976e-01 6.5096739e-10 1.6975024e-10 6.6800887e-08\n",
            "  2.7338801e-11 3.7112946e-10 2.1329528e-07 2.0646380e-10 1.5159369e-09]\n",
            " [5.9482265e-14 1.1110113e-07 3.0489489e-09 9.3502777e-13 9.9999630e-01\n",
            "  8.5658182e-11 2.7357940e-12 5.2493402e-07 1.7048379e-08 3.0423489e-06]\n",
            " [7.3749396e-07 1.0386529e-09 5.3660001e-06 3.5130003e-09 7.6976816e-05\n",
            "  1.0181712e-09 1.0563579e-10 4.2258805e-09 1.4537361e-05 9.9990237e-01]\n",
            " [8.4844777e-07 4.0701878e-10 1.2669867e-07 8.5761641e-08 1.5439015e-08\n",
            "  8.6168087e-01 1.3184811e-01 2.9574984e-10 6.4076283e-03 6.2292005e-05]]\n",
            "[7 2 1 0 4 1 4 9 5]\n"
          ],
          "name": "stdout"
        }
      ]
    },
    {
      "cell_type": "code",
      "metadata": {
        "id": "9JTpTJ01xUmA",
        "colab_type": "code",
        "colab": {}
      },
      "source": [
        "layer_dict = dict([(layer.name, layer) for layer in model.layers])"
      ],
      "execution_count": 0,
      "outputs": []
    },
    {
      "cell_type": "code",
      "metadata": {
        "id": "nW5AmIXQxVcU",
        "colab_type": "code",
        "outputId": "78e9aaf8-ba0b-4bb7-a29d-4fd888f5af36",
        "colab": {
          "base_uri": "https://localhost:8080/",
          "height": 741
        }
      },
      "source": [
        "import numpy as np\n",
        "from matplotlib import pyplot as plt\n",
        "from keras import backend as K\n",
        "%matplotlib inline\n",
        "# util function to convert a tensor into a valid image\n",
        "def deprocess_image(x):\n",
        "    # normalize tensor: center on 0., ensure std is 0.1\n",
        "    x -= x.mean()\n",
        "    x /= (x.std() + 1e-5)\n",
        "    x *= 0.1\n",
        "\n",
        "    # clip to [0, 1]\n",
        "    x += 0.5\n",
        "    x = np.clip(x, 0, 1)\n",
        "\n",
        "    # convert to RGB array\n",
        "    x *= 255\n",
        "    #x = x.transpose((1, 2, 0))\n",
        "    x = np.clip(x, 0, 255).astype('uint8')\n",
        "    return x\n",
        "\n",
        "def vis_img_in_filter(img = np.array(X_train[7]).reshape((1, 28, 28, 1)).astype(np.float64), \n",
        "                      layer_name = 'conv2d_7'):\n",
        "    layer_output = layer_dict[layer_name].output\n",
        "    img_ascs = list()\n",
        "    for filter_index in range(layer_output.shape[3]):\n",
        "        # build a loss function that maximizes the activation\n",
        "        # of the nth filter of the layer considered\n",
        "        loss = K.mean(layer_output[:, :, :, filter_index])\n",
        "\n",
        "        # compute the gradient of the input picture wrt this loss\n",
        "        grads = K.gradients(loss, model.input)[0]\n",
        "\n",
        "        # normalization trick: we normalize the gradient\n",
        "        grads /= (K.sqrt(K.mean(K.square(grads))) + 1e-5)\n",
        "\n",
        "        # this function returns the loss and grads given the input picture\n",
        "        iterate = K.function([model.input], [loss, grads])\n",
        "\n",
        "        # step size for gradient ascent\n",
        "        step = 5.\n",
        "\n",
        "        img_asc = np.array(img)\n",
        "        # run gradient ascent for 20 steps\n",
        "        for i in range(20):\n",
        "            loss_value, grads_value = iterate([img_asc])\n",
        "            img_asc += grads_value * step\n",
        "\n",
        "        img_asc = img_asc[0]\n",
        "        img_ascs.append(deprocess_image(img_asc).reshape((28, 28)))\n",
        "        \n",
        "    if layer_output.shape[3] >= 35:\n",
        "        plot_x, plot_y = 6, 6\n",
        "    elif layer_output.shape[3] >= 23:\n",
        "        plot_x, plot_y = 4, 6\n",
        "    elif layer_output.shape[3] >= 11:\n",
        "        plot_x, plot_y = 2, 6\n",
        "    else:\n",
        "        plot_x, plot_y = 1, 2\n",
        "    fig, ax = plt.subplots(plot_x, plot_y, figsize = (12, 12))\n",
        "    ax[0, 0].imshow(img.reshape((28, 28)), cmap = 'gray')\n",
        "    ax[0, 0].set_title('Input image')\n",
        "    fig.suptitle('Input image and %s filters' % (layer_name,))\n",
        "    fig.tight_layout(pad = 0.3, rect = [0, 0, 0.9, 0.9])\n",
        "    for (x, y) in [(i, j) for i in range(plot_x) for j in range(plot_y)]:\n",
        "        if x == 0 and y == 0:\n",
        "            continue\n",
        "        ax[x, y].imshow(img_ascs[x * plot_y + y - 1], cmap = 'gray')\n",
        "        ax[x, y].set_title('filter %d' % (x * plot_y + y - 1))\n",
        "\n",
        "vis_img_in_filter()"
      ],
      "execution_count": 0,
      "outputs": [
        {
          "output_type": "display_data",
          "data": {
            "image/png": "[encoded data removed]",
            "text/plain": [
              "<Figure size 864x864 with 12 Axes>"
            ]
          },
          "metadata": {
            "tags": []
          }
        }
      ]
    }
  ]
}